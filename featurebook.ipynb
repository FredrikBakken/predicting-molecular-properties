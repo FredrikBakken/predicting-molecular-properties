{
 "cells": [
  {
   "cell_type": "markdown",
   "metadata": {},
   "source": [
    "# FeatureBook"
   ]
  },
  {
   "cell_type": "markdown",
   "metadata": {},
   "source": [
    "## Imports"
   ]
  },
  {
   "cell_type": "code",
   "execution_count": 1,
   "metadata": {},
   "outputs": [],
   "source": [
    "import os\n",
    "import gc\n",
    "import sys\n",
    "import random\n",
    "import numpy as np\n",
    "import pandas as pd"
   ]
  },
  {
   "cell_type": "markdown",
   "metadata": {},
   "source": [
    "## Load Original Data"
   ]
  },
  {
   "cell_type": "code",
   "execution_count": 2,
   "metadata": {},
   "outputs": [],
   "source": [
    "# Load competition dataset\n",
    "#df_dipole_moments = pd.read_csv('./input/dipole_moments.csv')\n",
    "#df_mulliken_charges = pd.read_csv('./input/mulliken_charges.csv')\n",
    "df_structures = pd.read_csv('./input/structures.csv')\n",
    "test = pd.read_csv('./input/test.csv')\n",
    "train = pd.read_csv('./input/train.csv')"
   ]
  },
  {
   "cell_type": "code",
   "execution_count": 3,
   "metadata": {},
   "outputs": [
    {
     "name": "stdout",
     "output_type": "stream",
     "text": [
      "              id     molecule_name  atom_index_0  atom_index_1  type  \\\n",
      "0              0  dsgdb9nsd_000001             1             0  1JHC   \n",
      "1              1  dsgdb9nsd_000001             1             2  2JHH   \n",
      "2              2  dsgdb9nsd_000001             1             3  2JHH   \n",
      "3              3  dsgdb9nsd_000001             1             4  2JHH   \n",
      "4              4  dsgdb9nsd_000001             2             0  1JHC   \n",
      "5              5  dsgdb9nsd_000001             2             3  2JHH   \n",
      "6              6  dsgdb9nsd_000001             2             4  2JHH   \n",
      "7              7  dsgdb9nsd_000001             3             0  1JHC   \n",
      "8              8  dsgdb9nsd_000001             3             4  2JHH   \n",
      "9              9  dsgdb9nsd_000001             4             0  1JHC   \n",
      "10            10  dsgdb9nsd_000002             1             0  1JHN   \n",
      "11            11  dsgdb9nsd_000002             1             2  2JHH   \n",
      "12            12  dsgdb9nsd_000002             1             3  2JHH   \n",
      "13            13  dsgdb9nsd_000002             2             0  1JHN   \n",
      "14            14  dsgdb9nsd_000002             2             3  2JHH   \n",
      "15            15  dsgdb9nsd_000002             3             0  1JHN   \n",
      "16            16  dsgdb9nsd_000003             1             2  2JHH   \n",
      "17            17  dsgdb9nsd_000005             2             0  1JHC   \n",
      "18            18  dsgdb9nsd_000005             2             1  2JHN   \n",
      "19            19  dsgdb9nsd_000007             2             0  1JHC   \n",
      "20            20  dsgdb9nsd_000007             2             1  2JHC   \n",
      "21            21  dsgdb9nsd_000007             2             3  2JHH   \n",
      "22            22  dsgdb9nsd_000007             2             4  2JHH   \n",
      "23            23  dsgdb9nsd_000007             2             5  3JHH   \n",
      "24            24  dsgdb9nsd_000007             2             6  3JHH   \n",
      "25            25  dsgdb9nsd_000007             2             7  3JHH   \n",
      "26            26  dsgdb9nsd_000007             3             0  1JHC   \n",
      "27            27  dsgdb9nsd_000007             3             1  2JHC   \n",
      "28            28  dsgdb9nsd_000007             3             4  2JHH   \n",
      "29            29  dsgdb9nsd_000007             3             5  3JHH   \n",
      "...          ...               ...           ...           ...   ...   \n",
      "4658117  4658117  dsgdb9nsd_133884            14             6  2JHC   \n",
      "4658118  4658118  dsgdb9nsd_133884            14             7  3JHC   \n",
      "4658119  4658119  dsgdb9nsd_133884            14             8  3JHC   \n",
      "4658120  4658120  dsgdb9nsd_133884            14            15  2JHH   \n",
      "4658121  4658121  dsgdb9nsd_133884            15             0  3JHC   \n",
      "4658122  4658122  dsgdb9nsd_133884            15             2  3JHC   \n",
      "4658123  4658123  dsgdb9nsd_133884            15             3  3JHC   \n",
      "4658124  4658124  dsgdb9nsd_133884            15             4  2JHC   \n",
      "4658125  4658125  dsgdb9nsd_133884            15             5  1JHC   \n",
      "4658126  4658126  dsgdb9nsd_133884            15             6  2JHC   \n",
      "4658127  4658127  dsgdb9nsd_133884            15             7  3JHC   \n",
      "4658128  4658128  dsgdb9nsd_133884            15             8  3JHC   \n",
      "4658129  4658129  dsgdb9nsd_133884            16             0  3JHC   \n",
      "4658130  4658130  dsgdb9nsd_133884            16             1  2JHN   \n",
      "4658131  4658131  dsgdb9nsd_133884            16             2  3JHC   \n",
      "4658132  4658132  dsgdb9nsd_133884            16             3  3JHC   \n",
      "4658133  4658133  dsgdb9nsd_133884            16             4  3JHC   \n",
      "4658134  4658134  dsgdb9nsd_133884            16             5  3JHC   \n",
      "4658135  4658135  dsgdb9nsd_133884            16             6  2JHC   \n",
      "4658136  4658136  dsgdb9nsd_133884            16             7  1JHC   \n",
      "4658137  4658137  dsgdb9nsd_133884            16             8  2JHC   \n",
      "4658138  4658138  dsgdb9nsd_133884            16            17  3JHH   \n",
      "4658139  4658139  dsgdb9nsd_133884            17             1  3JHN   \n",
      "4658140  4658140  dsgdb9nsd_133884            17             2  3JHC   \n",
      "4658141  4658141  dsgdb9nsd_133884            17             3  2JHC   \n",
      "4658142  4658142  dsgdb9nsd_133884            17             4  2JHC   \n",
      "4658143  4658143  dsgdb9nsd_133884            17             5  3JHC   \n",
      "4658144  4658144  dsgdb9nsd_133884            17             6  3JHC   \n",
      "4658145  4658145  dsgdb9nsd_133884            17             7  2JHC   \n",
      "4658146  4658146  dsgdb9nsd_133884            17             8  1JHC   \n",
      "\n",
      "         scalar_coupling_constant  \n",
      "0                       84.807600  \n",
      "1                      -11.257000  \n",
      "2                      -11.254800  \n",
      "3                      -11.254300  \n",
      "4                       84.807400  \n",
      "5                      -11.254100  \n",
      "6                      -11.254800  \n",
      "7                       84.809300  \n",
      "8                      -11.254300  \n",
      "9                       84.809500  \n",
      "10                      32.688900  \n",
      "11                     -11.186600  \n",
      "12                     -11.175700  \n",
      "13                      32.689100  \n",
      "14                     -11.175800  \n",
      "15                      32.690500  \n",
      "16                      -9.946410  \n",
      "17                     171.220000  \n",
      "18                       5.182460  \n",
      "19                      83.542900  \n",
      "20                      -2.378310  \n",
      "21                     -11.700500  \n",
      "22                     -11.697900  \n",
      "23                       3.252810  \n",
      "24                      13.691300  \n",
      "25                       3.252050  \n",
      "26                      83.541700  \n",
      "27                      -2.378620  \n",
      "28                     -11.699600  \n",
      "29                      13.692400  \n",
      "...                           ...  \n",
      "4658117                 -1.148740  \n",
      "4658118                  0.445037  \n",
      "4658119                  0.660580  \n",
      "4658120                 -9.199110  \n",
      "4658121                  0.685640  \n",
      "4658122                  0.445065  \n",
      "4658123                  0.660647  \n",
      "4658124                  0.318358  \n",
      "4658125                 87.891100  \n",
      "4658126                 -1.148660  \n",
      "4658127                  6.131220  \n",
      "4658128                  5.124150  \n",
      "4658129                  4.922670  \n",
      "4658130                  3.719250  \n",
      "4658131                  8.935460  \n",
      "4658132                  3.545350  \n",
      "4658133                 -0.244777  \n",
      "4658134                 -0.184689  \n",
      "4658135                  1.025490  \n",
      "4658136                 99.657200  \n",
      "4658137                  9.119730  \n",
      "4658138                  0.789559  \n",
      "4658139                 -0.006537  \n",
      "4658140                  1.944380  \n",
      "4658141                  0.861412  \n",
      "4658142                  3.543450  \n",
      "4658143                  0.568997  \n",
      "4658144                  1.173370  \n",
      "4658145                  4.762010  \n",
      "4658146                117.934000  \n",
      "\n",
      "[4658147 rows x 6 columns]\n"
     ]
    }
   ],
   "source": [
    "print(train)"
   ]
  },
  {
   "cell_type": "markdown",
   "metadata": {},
   "source": [
    "## Handle y"
   ]
  },
  {
   "cell_type": "code",
   "execution_count": 4,
   "metadata": {},
   "outputs": [
    {
     "data": {
      "text/plain": [
       "14"
      ]
     },
     "execution_count": 4,
     "metadata": {},
     "output_type": "execute_result"
    }
   ],
   "source": [
    "storage_path = './featurebook/'\n",
    "\n",
    "# Initialize storage directory\n",
    "if not os.path.exists(storage_path):\n",
    "    os.mkdir(storage_path)\n",
    "\n",
    "# Initialize y\n",
    "y = train['scalar_coupling_constant']\n",
    "y = y.replace([np.inf, -np.inf], np.nan)\n",
    "y = y.reset_index()\n",
    "y = y.drop(['index'], axis = 1)\n",
    "train.drop(columns=['scalar_coupling_constant'], inplace=True)\n",
    "\n",
    "y.to_feather(storage_path + 'y.feather')\n",
    "y.to_pickle(storage_path + 'y.pkl')\n",
    "\n",
    "del y\n",
    "gc.collect()"
   ]
  },
  {
   "cell_type": "markdown",
   "metadata": {},
   "source": [
    "## Save Checkpoint"
   ]
  },
  {
   "cell_type": "code",
   "execution_count": 5,
   "metadata": {},
   "outputs": [],
   "source": [
    "save_count = 1\n",
    "save_feather = False\n",
    "save_pickle = True\n",
    "\n",
    "def save_checkpoint(new_dir, train, test):\n",
    "    # Initialize new output directory\n",
    "    if not os.path.exists(storage_path + new_dir):\n",
    "        os.mkdir(storage_path + new_dir)\n",
    "    \n",
    "    cat_columns_train = train.select_dtypes(['category']).columns\n",
    "    train[cat_columns_train] = train[cat_columns_train].apply(lambda x: x.cat.codes)\n",
    "\n",
    "    # Create dataframe X_test\n",
    "    X_test = test.copy()\n",
    "    cat_columns_X_test = X_test.select_dtypes(['category']).columns\n",
    "    X_test[cat_columns_X_test] = X_test[cat_columns_X_test].apply(lambda x: x.cat.codes)\n",
    "    \n",
    "    # Write the output as binary\n",
    "    if save_feather:\n",
    "        train.to_feather(storage_path + new_dir + 'X.feather')\n",
    "        X_test.to_feather(storage_path + new_dir + 'X_test.feather')\n",
    "    if save_pickle:\n",
    "        train.to_pickle(storage_path + new_dir + 'X.pkl')\n",
    "        X_test.to_pickle(storage_path + new_dir + 'X_test.pkl')"
   ]
  },
  {
   "cell_type": "markdown",
   "metadata": {},
   "source": [
    "## Memory Optimization"
   ]
  },
  {
   "cell_type": "code",
   "execution_count": 6,
   "metadata": {},
   "outputs": [],
   "source": [
    "def cast_float16(train, test, columns):\n",
    "    for column in columns:\n",
    "        train[column] = train[column].astype(np.float16)\n",
    "        test[column] = test[column].astype(np.float16)\n",
    "    \n",
    "    return train, test"
   ]
  },
  {
   "cell_type": "markdown",
   "metadata": {},
   "source": [
    "## Generate Features"
   ]
  },
  {
   "cell_type": "markdown",
   "metadata": {},
   "source": [
    "### Distance Matrix"
   ]
  },
  {
   "cell_type": "code",
   "execution_count": 7,
   "metadata": {},
   "outputs": [],
   "source": [
    "def distance_matrix(train, test, save_count):\n",
    "    def map_atom_info(df, df_dm, atom_idx):\n",
    "        df = pd.merge(df, df_dm, how = 'left',\n",
    "                      left_on  = ['molecule_name', f'atom_index_{atom_idx}'],\n",
    "                      right_on = ['molecule_name',  'atom_index'])\n",
    "\n",
    "        df = df.drop('atom_index', axis=1)\n",
    "\n",
    "        return df\n",
    "    \n",
    "    def rename_cols(df):\n",
    "        df.rename(columns={\n",
    "            'atom_x': 'ai0_atom', 'atom_y': 'ai1_atom',\n",
    "            '0_x': 'ai0_0', '0_y': 'ai1_0',\n",
    "            '1_x': 'ai0_1', '1_y': 'ai1_1',\n",
    "            '2_x': 'ai0_2', '2_y': 'ai1_2',\n",
    "            '3_x': 'ai0_3', '3_y': 'ai1_3',\n",
    "            '4_x': 'ai0_4', '4_y': 'ai1_4',\n",
    "            '5_x': 'ai0_5', '5_y': 'ai1_5',\n",
    "            '6_x': 'ai0_6', '6_y': 'ai1_6',\n",
    "            '7_x': 'ai0_7', '7_y': 'ai1_7',\n",
    "            '8_x': 'ai0_8', '8_y': 'ai1_8',\n",
    "            '9_x': 'ai0_9', '9_y': 'ai1_9',\n",
    "            '10_x': 'ai0_10', '10_y': 'ai1_10',\n",
    "            '11_x': 'ai0_11', '11_y': 'ai1_11',\n",
    "            '12_x': 'ai0_12', '12_y': 'ai1_12',\n",
    "            '13_x': 'ai0_13', '13_y': 'ai1_13',\n",
    "            '14_x': 'ai0_14', '14_y': 'ai1_14',\n",
    "            '15_x': 'ai0_15', '15_y': 'ai1_15',\n",
    "            '16_x': 'ai0_16', '16_y': 'ai1_16',\n",
    "            '17_x': 'ai0_17', '17_y': 'ai1_17',\n",
    "            '18_x': 'ai0_18', '18_y': 'ai1_18',\n",
    "            '19_x': 'ai0_19', '19_y': 'ai1_19',\n",
    "            '20_x': 'ai0_20', '20_y': 'ai1_20',\n",
    "            '21_x': 'ai0_21', '21_y': 'ai1_21',\n",
    "            '22_x': 'ai0_22', '22_y': 'ai1_22',\n",
    "            '23_x': 'ai0_23', '23_y': 'ai1_23',\n",
    "            '24_x': 'ai0_24', '24_y': 'ai1_24',\n",
    "            '25_x': 'ai0_25', '25_y': 'ai1_25',\n",
    "            '26_x': 'ai0_26', '26_y': 'ai1_26',\n",
    "            '27_x': 'ai0_27', '27_y': 'ai1_27',\n",
    "            '28_x': 'ai0_28', '28_y': 'ai1_28',\n",
    "        }, inplace=True)\n",
    "    \n",
    "    # Load dataframe\n",
    "    df_distance_matrix = pd.read_csv('./input/generated/distance_matrix.csv')\n",
    "\n",
    "    train = map_atom_info(train, df_distance_matrix, 0)\n",
    "    train = map_atom_info(train, df_distance_matrix, 1)\n",
    "\n",
    "    test = map_atom_info(test, df_distance_matrix, 0)\n",
    "    test = map_atom_info(test, df_distance_matrix, 1)\n",
    "\n",
    "    train = train.drop(['id'], axis = 1)\n",
    "    test = test.drop(['id'], axis = 1)\n",
    "\n",
    "    rename_cols(train)\n",
    "    rename_cols(test)\n",
    "    \n",
    "    train, test = cast_float16(train, test, [\n",
    "        'ai0_0', 'ai0_1', 'ai0_2', 'ai0_3', 'ai0_4', 'ai0_5', 'ai0_6', 'ai0_7', 'ai0_8', 'ai0_9', 'ai0_10', 'ai0_11', 'ai0_12', 'ai0_13', 'ai0_14', 'ai0_15', 'ai0_16', 'ai0_17', 'ai0_18', 'ai0_19', 'ai0_20',\n",
    "        'ai0_21', 'ai0_22', 'ai0_23', 'ai0_24', 'ai0_25', 'ai0_26', 'ai0_27', 'ai0_28', 'ai1_0', 'ai1_1', 'ai1_2', 'ai1_3', 'ai1_4', 'ai1_5', 'ai1_6', 'ai1_7', 'ai1_8', 'ai1_9', 'ai1_10', 'ai1_11', 'ai1_12',\n",
    "        'ai1_13', 'ai1_14', 'ai1_15', 'ai1_16', 'ai1_17', 'ai1_18', 'ai1_19', 'ai1_20', 'ai1_21', 'ai1_22', 'ai1_23', 'ai1_24', 'ai1_25', 'ai1_26', 'ai1_27', 'ai1_28'\n",
    "    ])\n",
    "    \n",
    "    save_checkpoint(f'{save_count}_distance-matrix/', train, test)\n",
    "    save_count += 1\n",
    "    print('Distance matrix added to dataset.')\n",
    "    \n",
    "    del df_distance_matrix\n",
    "    gc.collect()\n",
    "    \n",
    "    return train, test, save_count"
   ]
  },
  {
   "cell_type": "markdown",
   "metadata": {},
   "source": [
    "### Dipole Moments"
   ]
  },
  {
   "cell_type": "code",
   "execution_count": 8,
   "metadata": {},
   "outputs": [],
   "source": [
    "def dipole_moments(train, test, save_count):\n",
    "    def map_atom_info(df, df_dm, atom_idx):\n",
    "        df = pd.merge(df, df_dm, how = 'left',\n",
    "                      left_on  = ['molecule_name'],\n",
    "                      right_on = ['molecule_name'])\n",
    "\n",
    "        return df\n",
    "\n",
    "    def rename_cols(df):\n",
    "        df.rename(columns={\n",
    "            'X': 'dm_X',\n",
    "            'Y': 'dm_Y',\n",
    "            'Z': 'dm_Z',\n",
    "        }, inplace=True)\n",
    "    \n",
    "    # Load dataframes\n",
    "    df_dipole_moments_train = pd.read_csv('./input/generated/train_ob_dipoles_mmff44.csv')\n",
    "    df_dipole_moments_train = df_dipole_moments_train.loc[:, ~df_dipole_moments_train.columns.str.contains('^Unnamed')]\n",
    "    df_dipole_moments_test = pd.read_csv('./input/generated/test_ob_dipoles_mmff44.csv')\n",
    "    df_dipole_moments_test = df_dipole_moments_test.loc[:, ~df_dipole_moments_test.columns.str.contains('^Unnamed')]\n",
    "\n",
    "    train = map_atom_info(train, df_dipole_moments_train, 0)\n",
    "    test = map_atom_info(test, df_dipole_moments_test, 0)\n",
    "    \n",
    "    rename_cols(train)\n",
    "    rename_cols(test)\n",
    "    \n",
    "    train, test = cast_float16(train, test, [\n",
    "        'dm_X', 'dm_Y', 'dm_Z'\n",
    "    ])\n",
    "    \n",
    "    save_checkpoint(f'{save_count}_dipole-moments/', train, test)\n",
    "    save_count += 1\n",
    "    print('Dipole moments added to dataset.')\n",
    "    \n",
    "    del df_dipole_moments_train\n",
    "    del df_dipole_moments_test\n",
    "    gc.collect()\n",
    "    \n",
    "    return train, test, save_count"
   ]
  },
  {
   "cell_type": "markdown",
   "metadata": {},
   "source": [
    "### Mulliken Charges"
   ]
  },
  {
   "cell_type": "code",
   "execution_count": 9,
   "metadata": {},
   "outputs": [],
   "source": [
    "def mulliken_charges(train, test, save_count):\n",
    "    def map_atom_info(df, df_mc, atom_idx):\n",
    "        df = pd.merge(df, df_mc, how = 'left',\n",
    "                      left_on  = ['molecule_name', f'atom_index_{atom_idx}'],\n",
    "                      right_on = ['molecule_name',  'atom_index'])\n",
    "\n",
    "        df = df.drop('atom_index', axis=1)\n",
    "\n",
    "        return df\n",
    "    \n",
    "    def rename_cols(df):\n",
    "        df.rename(columns={\n",
    "            'eem_x': 'mc0_eem', 'eem2015bn_x': 'mc0_eem2015bn',\n",
    "            'eem_y': 'mc1_eem', 'eem2015bn_y': 'mc1_eem2015bn',\n",
    "        }, inplace=True)\n",
    "    \n",
    "    df_mulliken_charges_train = pd.read_csv('./input/generated/best_ob_mulliken.csv')\n",
    "    df_mulliken_charges_train = df_mulliken_charges_train.loc[:, ~df_mulliken_charges_train.columns.str.contains('^Unnamed')]\n",
    "    train = map_atom_info(train, df_mulliken_charges_train, 0)\n",
    "    train = map_atom_info(train, df_mulliken_charges_train, 1)\n",
    "    del df_mulliken_charges_train\n",
    "    gc.collect()\n",
    "    \n",
    "    df_mulliken_charges_test = pd.read_csv('./input/generated/best_ob_mulliken_test.csv')\n",
    "    df_mulliken_charges_test = df_mulliken_charges_test.loc[:, ~df_mulliken_charges_test.columns.str.contains('^Unnamed')]\n",
    "    test = map_atom_info(train, df_mulliken_charges_test, 0)\n",
    "    test = map_atom_info(train, df_mulliken_charges_test, 1)\n",
    "    del df_mulliken_charges_test\n",
    "    gc.collect()\n",
    "    \n",
    "    train = train.dropna(axis='columns')\n",
    "    test = test.dropna(axis='columns')\n",
    "    \n",
    "    rename_cols(train)\n",
    "    rename_cols(test)\n",
    "    \n",
    "    train, test = cast_float16(train, test, [\n",
    "        'mc0_eem', 'mc1_eem', 'mc0_eem2015bn', 'mc1_eem2015bn'\n",
    "    ])\n",
    "    \n",
    "    save_checkpoint(f'{save_count}_mulliken-charges/', train, test)\n",
    "    save_count += 1\n",
    "    print('Mulliken charges added to dataset.')\n",
    "    \n",
    "    return train, test, save_count"
   ]
  },
  {
   "cell_type": "markdown",
   "metadata": {},
   "source": [
    "### CHAMPS\n",
    "Source: https://www.kaggle.com/todnewman/keras-neural-net-for-champs"
   ]
  },
  {
   "cell_type": "code",
   "execution_count": 10,
   "metadata": {},
   "outputs": [],
   "source": [
    "def champs(train, test, save_count):\n",
    "    def map_atom_info(df, df_dm, atom_idx):\n",
    "        df = pd.merge(df, df_dm, how = 'left',\n",
    "                      left_on  = ['molecule_name'],\n",
    "                      right_on = ['molecule_name'])\n",
    "\n",
    "        return df\n",
    "\n",
    "    df_champs_train = pd.read_csv('./input/generated/champs_train.csv')\n",
    "    train = map_atom_info(train, df_champs_train, 0)\n",
    "    del df_champs_train\n",
    "    \n",
    "    print(df_champs_train.head())\n",
    "    print(train.head())\n",
    "    \n",
    "    #save_checkpoint(f'{save_count}_mulliken-charges/', train, test)\n",
    "    # save_count += 1\n",
    "# champs(train, test)"
   ]
  },
  {
   "cell_type": "markdown",
   "metadata": {},
   "source": [
    "## Generate New Dataset"
   ]
  },
  {
   "cell_type": "code",
   "execution_count": 11,
   "metadata": {},
   "outputs": [
    {
     "name": "stdout",
     "output_type": "stream",
     "text": [
      "Distance matrix added to dataset.\n",
      "Dipole moments added to dataset.\n",
      "Mulliken charges added to dataset.\n"
     ]
    },
    {
     "ename": "MemoryError",
     "evalue": "",
     "output_type": "error",
     "traceback": [
      "\u001b[1;31m---------------------------------------------------------------------------\u001b[0m",
      "\u001b[1;31mMemoryError\u001b[0m                               Traceback (most recent call last)",
      "\u001b[1;32m<ipython-input-11-d87bdde92b46>\u001b[0m in \u001b[0;36m<module>\u001b[1;34m\u001b[0m\n\u001b[0;32m      3\u001b[0m \u001b[0mtrain\u001b[0m\u001b[1;33m,\u001b[0m \u001b[0mtest\u001b[0m\u001b[1;33m,\u001b[0m \u001b[0msave_count\u001b[0m \u001b[1;33m=\u001b[0m \u001b[0mmulliken_charges\u001b[0m\u001b[1;33m(\u001b[0m\u001b[0mtrain\u001b[0m\u001b[1;33m,\u001b[0m \u001b[0mtest\u001b[0m\u001b[1;33m,\u001b[0m \u001b[0msave_count\u001b[0m\u001b[1;33m)\u001b[0m\u001b[1;33m\u001b[0m\u001b[1;33m\u001b[0m\u001b[0m\n\u001b[0;32m      4\u001b[0m \u001b[1;33m\u001b[0m\u001b[0m\n\u001b[1;32m----> 5\u001b[1;33m \u001b[0mchamps\u001b[0m\u001b[1;33m(\u001b[0m\u001b[0mtrain\u001b[0m\u001b[1;33m,\u001b[0m \u001b[0mtest\u001b[0m\u001b[1;33m,\u001b[0m \u001b[0msave_count\u001b[0m\u001b[1;33m)\u001b[0m\u001b[1;33m\u001b[0m\u001b[1;33m\u001b[0m\u001b[0m\n\u001b[0m\u001b[0;32m      6\u001b[0m \u001b[1;33m\u001b[0m\u001b[0m\n\u001b[0;32m      7\u001b[0m \u001b[0mprint\u001b[0m\u001b[1;33m(\u001b[0m\u001b[0mtrain\u001b[0m\u001b[1;33m.\u001b[0m\u001b[0mdtypes\u001b[0m\u001b[1;33m)\u001b[0m\u001b[1;33m\u001b[0m\u001b[1;33m\u001b[0m\u001b[0m\n",
      "\u001b[1;32m<ipython-input-10-a8bde85f7c77>\u001b[0m in \u001b[0;36mchamps\u001b[1;34m(train, test, save_count)\u001b[0m\n\u001b[0;32m      8\u001b[0m \u001b[1;33m\u001b[0m\u001b[0m\n\u001b[0;32m      9\u001b[0m     \u001b[0mdf_champs_train\u001b[0m \u001b[1;33m=\u001b[0m \u001b[0mpd\u001b[0m\u001b[1;33m.\u001b[0m\u001b[0mread_csv\u001b[0m\u001b[1;33m(\u001b[0m\u001b[1;34m'./input/generated/champs_train.csv'\u001b[0m\u001b[1;33m)\u001b[0m\u001b[1;33m\u001b[0m\u001b[1;33m\u001b[0m\u001b[0m\n\u001b[1;32m---> 10\u001b[1;33m     \u001b[0mtrain\u001b[0m \u001b[1;33m=\u001b[0m \u001b[0mmap_atom_info\u001b[0m\u001b[1;33m(\u001b[0m\u001b[0mtrain\u001b[0m\u001b[1;33m,\u001b[0m \u001b[0mdf_champs_train\u001b[0m\u001b[1;33m,\u001b[0m \u001b[1;36m0\u001b[0m\u001b[1;33m)\u001b[0m\u001b[1;33m\u001b[0m\u001b[1;33m\u001b[0m\u001b[0m\n\u001b[0m\u001b[0;32m     11\u001b[0m     \u001b[1;32mdel\u001b[0m \u001b[0mdf_champs_train\u001b[0m\u001b[1;33m\u001b[0m\u001b[1;33m\u001b[0m\u001b[0m\n\u001b[0;32m     12\u001b[0m \u001b[1;33m\u001b[0m\u001b[0m\n",
      "\u001b[1;32m<ipython-input-10-a8bde85f7c77>\u001b[0m in \u001b[0;36mmap_atom_info\u001b[1;34m(df, df_dm, atom_idx)\u001b[0m\n\u001b[0;32m      3\u001b[0m         df = pd.merge(df, df_dm, how = 'left',\n\u001b[0;32m      4\u001b[0m                       \u001b[0mleft_on\u001b[0m  \u001b[1;33m=\u001b[0m \u001b[1;33m[\u001b[0m\u001b[1;34m'molecule_name'\u001b[0m\u001b[1;33m]\u001b[0m\u001b[1;33m,\u001b[0m\u001b[1;33m\u001b[0m\u001b[1;33m\u001b[0m\u001b[0m\n\u001b[1;32m----> 5\u001b[1;33m                       right_on = ['molecule_name'])\n\u001b[0m\u001b[0;32m      6\u001b[0m \u001b[1;33m\u001b[0m\u001b[0m\n\u001b[0;32m      7\u001b[0m         \u001b[1;32mreturn\u001b[0m \u001b[0mdf\u001b[0m\u001b[1;33m\u001b[0m\u001b[1;33m\u001b[0m\u001b[0m\n",
      "\u001b[1;32m~\\AppData\\Local\\Continuum\\anaconda3\\lib\\site-packages\\pandas\\core\\reshape\\merge.py\u001b[0m in \u001b[0;36mmerge\u001b[1;34m(left, right, how, on, left_on, right_on, left_index, right_index, sort, suffixes, copy, indicator, validate)\u001b[0m\n\u001b[0;32m     46\u001b[0m                          \u001b[0mcopy\u001b[0m\u001b[1;33m=\u001b[0m\u001b[0mcopy\u001b[0m\u001b[1;33m,\u001b[0m \u001b[0mindicator\u001b[0m\u001b[1;33m=\u001b[0m\u001b[0mindicator\u001b[0m\u001b[1;33m,\u001b[0m\u001b[1;33m\u001b[0m\u001b[1;33m\u001b[0m\u001b[0m\n\u001b[0;32m     47\u001b[0m                          validate=validate)\n\u001b[1;32m---> 48\u001b[1;33m     \u001b[1;32mreturn\u001b[0m \u001b[0mop\u001b[0m\u001b[1;33m.\u001b[0m\u001b[0mget_result\u001b[0m\u001b[1;33m(\u001b[0m\u001b[1;33m)\u001b[0m\u001b[1;33m\u001b[0m\u001b[1;33m\u001b[0m\u001b[0m\n\u001b[0m\u001b[0;32m     49\u001b[0m \u001b[1;33m\u001b[0m\u001b[0m\n\u001b[0;32m     50\u001b[0m \u001b[1;33m\u001b[0m\u001b[0m\n",
      "\u001b[1;32m~\\AppData\\Local\\Continuum\\anaconda3\\lib\\site-packages\\pandas\\core\\reshape\\merge.py\u001b[0m in \u001b[0;36mget_result\u001b[1;34m(self)\u001b[0m\n\u001b[0;32m    558\u001b[0m             \u001b[1;33m[\u001b[0m\u001b[1;33m(\u001b[0m\u001b[0mldata\u001b[0m\u001b[1;33m,\u001b[0m \u001b[0mlindexers\u001b[0m\u001b[1;33m)\u001b[0m\u001b[1;33m,\u001b[0m \u001b[1;33m(\u001b[0m\u001b[0mrdata\u001b[0m\u001b[1;33m,\u001b[0m \u001b[0mrindexers\u001b[0m\u001b[1;33m)\u001b[0m\u001b[1;33m]\u001b[0m\u001b[1;33m,\u001b[0m\u001b[1;33m\u001b[0m\u001b[1;33m\u001b[0m\u001b[0m\n\u001b[0;32m    559\u001b[0m             \u001b[0maxes\u001b[0m\u001b[1;33m=\u001b[0m\u001b[1;33m[\u001b[0m\u001b[0mllabels\u001b[0m\u001b[1;33m.\u001b[0m\u001b[0mappend\u001b[0m\u001b[1;33m(\u001b[0m\u001b[0mrlabels\u001b[0m\u001b[1;33m)\u001b[0m\u001b[1;33m,\u001b[0m \u001b[0mjoin_index\u001b[0m\u001b[1;33m]\u001b[0m\u001b[1;33m,\u001b[0m\u001b[1;33m\u001b[0m\u001b[1;33m\u001b[0m\u001b[0m\n\u001b[1;32m--> 560\u001b[1;33m             concat_axis=0, copy=self.copy)\n\u001b[0m\u001b[0;32m    561\u001b[0m \u001b[1;33m\u001b[0m\u001b[0m\n\u001b[0;32m    562\u001b[0m         \u001b[0mtyp\u001b[0m \u001b[1;33m=\u001b[0m \u001b[0mself\u001b[0m\u001b[1;33m.\u001b[0m\u001b[0mleft\u001b[0m\u001b[1;33m.\u001b[0m\u001b[0m_constructor\u001b[0m\u001b[1;33m\u001b[0m\u001b[1;33m\u001b[0m\u001b[0m\n",
      "\u001b[1;32m~\\AppData\\Local\\Continuum\\anaconda3\\lib\\site-packages\\pandas\\core\\internals\\managers.py\u001b[0m in \u001b[0;36mconcatenate_block_managers\u001b[1;34m(mgrs_indexers, axes, concat_axis, copy)\u001b[0m\n\u001b[0;32m   2059\u001b[0m         \u001b[1;32melse\u001b[0m\u001b[1;33m:\u001b[0m\u001b[1;33m\u001b[0m\u001b[1;33m\u001b[0m\u001b[0m\n\u001b[0;32m   2060\u001b[0m             b = make_block(\n\u001b[1;32m-> 2061\u001b[1;33m                 \u001b[0mconcatenate_join_units\u001b[0m\u001b[1;33m(\u001b[0m\u001b[0mjoin_units\u001b[0m\u001b[1;33m,\u001b[0m \u001b[0mconcat_axis\u001b[0m\u001b[1;33m,\u001b[0m \u001b[0mcopy\u001b[0m\u001b[1;33m=\u001b[0m\u001b[0mcopy\u001b[0m\u001b[1;33m)\u001b[0m\u001b[1;33m,\u001b[0m\u001b[1;33m\u001b[0m\u001b[1;33m\u001b[0m\u001b[0m\n\u001b[0m\u001b[0;32m   2062\u001b[0m                 placement=placement)\n\u001b[0;32m   2063\u001b[0m         \u001b[0mblocks\u001b[0m\u001b[1;33m.\u001b[0m\u001b[0mappend\u001b[0m\u001b[1;33m(\u001b[0m\u001b[0mb\u001b[0m\u001b[1;33m)\u001b[0m\u001b[1;33m\u001b[0m\u001b[1;33m\u001b[0m\u001b[0m\n",
      "\u001b[1;32m~\\AppData\\Local\\Continuum\\anaconda3\\lib\\site-packages\\pandas\\core\\internals\\concat.py\u001b[0m in \u001b[0;36mconcatenate_join_units\u001b[1;34m(join_units, concat_axis, copy)\u001b[0m\n\u001b[0;32m    240\u001b[0m     to_concat = [ju.get_reindexed_values(empty_dtype=empty_dtype,\n\u001b[0;32m    241\u001b[0m                                          upcasted_na=upcasted_na)\n\u001b[1;32m--> 242\u001b[1;33m                  for ju in join_units]\n\u001b[0m\u001b[0;32m    243\u001b[0m \u001b[1;33m\u001b[0m\u001b[0m\n\u001b[0;32m    244\u001b[0m     \u001b[1;32mif\u001b[0m \u001b[0mlen\u001b[0m\u001b[1;33m(\u001b[0m\u001b[0mto_concat\u001b[0m\u001b[1;33m)\u001b[0m \u001b[1;33m==\u001b[0m \u001b[1;36m1\u001b[0m\u001b[1;33m:\u001b[0m\u001b[1;33m\u001b[0m\u001b[1;33m\u001b[0m\u001b[0m\n",
      "\u001b[1;32m~\\AppData\\Local\\Continuum\\anaconda3\\lib\\site-packages\\pandas\\core\\internals\\concat.py\u001b[0m in \u001b[0;36m<listcomp>\u001b[1;34m(.0)\u001b[0m\n\u001b[0;32m    240\u001b[0m     to_concat = [ju.get_reindexed_values(empty_dtype=empty_dtype,\n\u001b[0;32m    241\u001b[0m                                          upcasted_na=upcasted_na)\n\u001b[1;32m--> 242\u001b[1;33m                  for ju in join_units]\n\u001b[0m\u001b[0;32m    243\u001b[0m \u001b[1;33m\u001b[0m\u001b[0m\n\u001b[0;32m    244\u001b[0m     \u001b[1;32mif\u001b[0m \u001b[0mlen\u001b[0m\u001b[1;33m(\u001b[0m\u001b[0mto_concat\u001b[0m\u001b[1;33m)\u001b[0m \u001b[1;33m==\u001b[0m \u001b[1;36m1\u001b[0m\u001b[1;33m:\u001b[0m\u001b[1;33m\u001b[0m\u001b[1;33m\u001b[0m\u001b[0m\n",
      "\u001b[1;32m~\\AppData\\Local\\Continuum\\anaconda3\\lib\\site-packages\\pandas\\core\\internals\\concat.py\u001b[0m in \u001b[0;36mget_reindexed_values\u001b[1;34m(self, empty_dtype, upcasted_na)\u001b[0m\n\u001b[0;32m    223\u001b[0m             \u001b[1;32mfor\u001b[0m \u001b[0max\u001b[0m\u001b[1;33m,\u001b[0m \u001b[0mindexer\u001b[0m \u001b[1;32min\u001b[0m \u001b[0mself\u001b[0m\u001b[1;33m.\u001b[0m\u001b[0mindexers\u001b[0m\u001b[1;33m.\u001b[0m\u001b[0mitems\u001b[0m\u001b[1;33m(\u001b[0m\u001b[1;33m)\u001b[0m\u001b[1;33m:\u001b[0m\u001b[1;33m\u001b[0m\u001b[1;33m\u001b[0m\u001b[0m\n\u001b[0;32m    224\u001b[0m                 values = algos.take_nd(values, indexer, axis=ax,\n\u001b[1;32m--> 225\u001b[1;33m                                        fill_value=fill_value)\n\u001b[0m\u001b[0;32m    226\u001b[0m \u001b[1;33m\u001b[0m\u001b[0m\n\u001b[0;32m    227\u001b[0m         \u001b[1;32mreturn\u001b[0m \u001b[0mvalues\u001b[0m\u001b[1;33m\u001b[0m\u001b[1;33m\u001b[0m\u001b[0m\n",
      "\u001b[1;32m~\\AppData\\Local\\Continuum\\anaconda3\\lib\\site-packages\\pandas\\core\\algorithms.py\u001b[0m in \u001b[0;36mtake_nd\u001b[1;34m(arr, indexer, axis, out, fill_value, mask_info, allow_fill)\u001b[0m\n\u001b[0;32m   1649\u001b[0m             \u001b[0mout\u001b[0m \u001b[1;33m=\u001b[0m \u001b[0mnp\u001b[0m\u001b[1;33m.\u001b[0m\u001b[0mempty\u001b[0m\u001b[1;33m(\u001b[0m\u001b[0mout_shape\u001b[0m\u001b[1;33m,\u001b[0m \u001b[0mdtype\u001b[0m\u001b[1;33m=\u001b[0m\u001b[0mdtype\u001b[0m\u001b[1;33m,\u001b[0m \u001b[0morder\u001b[0m\u001b[1;33m=\u001b[0m\u001b[1;34m'F'\u001b[0m\u001b[1;33m)\u001b[0m\u001b[1;33m\u001b[0m\u001b[1;33m\u001b[0m\u001b[0m\n\u001b[0;32m   1650\u001b[0m         \u001b[1;32melse\u001b[0m\u001b[1;33m:\u001b[0m\u001b[1;33m\u001b[0m\u001b[1;33m\u001b[0m\u001b[0m\n\u001b[1;32m-> 1651\u001b[1;33m             \u001b[0mout\u001b[0m \u001b[1;33m=\u001b[0m \u001b[0mnp\u001b[0m\u001b[1;33m.\u001b[0m\u001b[0mempty\u001b[0m\u001b[1;33m(\u001b[0m\u001b[0mout_shape\u001b[0m\u001b[1;33m,\u001b[0m \u001b[0mdtype\u001b[0m\u001b[1;33m=\u001b[0m\u001b[0mdtype\u001b[0m\u001b[1;33m)\u001b[0m\u001b[1;33m\u001b[0m\u001b[1;33m\u001b[0m\u001b[0m\n\u001b[0m\u001b[0;32m   1652\u001b[0m \u001b[1;33m\u001b[0m\u001b[0m\n\u001b[0;32m   1653\u001b[0m     func = _get_take_nd_function(arr.ndim, arr.dtype, out.dtype, axis=axis,\n",
      "\u001b[1;31mMemoryError\u001b[0m: "
     ]
    }
   ],
   "source": [
    "train, test, save_count = distance_matrix(train, test, save_count)\n",
    "train, test, save_count = dipole_moments(train, test, save_count)\n",
    "train, test, save_count = mulliken_charges(train, test, save_count)\n",
    "\n",
    "# champs(train, test, save_count)\n",
    "\n",
    "print(train.dtypes)\n",
    "print(test.dtypes)"
   ]
  },
  {
   "cell_type": "code",
   "execution_count": null,
   "metadata": {},
   "outputs": [],
   "source": []
  }
 ],
 "metadata": {
  "kernelspec": {
   "display_name": "Python 3",
   "language": "python",
   "name": "python3"
  },
  "language_info": {
   "codemirror_mode": {
    "name": "ipython",
    "version": 3
   },
   "file_extension": ".py",
   "mimetype": "text/x-python",
   "name": "python",
   "nbconvert_exporter": "python",
   "pygments_lexer": "ipython3",
   "version": "3.7.3"
  }
 },
 "nbformat": 4,
 "nbformat_minor": 2
}
